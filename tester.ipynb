{
 "cells": [
  {
   "cell_type": "code",
   "execution_count": 35,
   "metadata": {},
   "outputs": [
    {
     "name": "stdout",
     "output_type": "stream",
     "text": [
      "[[110.12428796902786, 130.96058678737649, 165.00000000000006, 196.21917397544905], [146.99828849315605, 185.20623797104665, 220.24857593805584, 277.49581703372604], [98.1095869877245, 123.61033384232624, 146.99828849315602, 185.20623797104662]]\n"
     ]
    }
   ],
   "source": [
    "from synthesizer import Player, Synthesizer, Waveform, Writer\n",
    "from PyTunes import keyboard, rooot\n",
    "\n",
    "root1 = rooot('D')\n",
    "nkeys = 8\n",
    "keys1 = keyboard(3*root1,nkeys,'natmin')\n",
    "\n",
    "root2 = rooot('G')\n",
    "keys2 = keyboard(3*root2,nkeys,'maj')\n",
    "\n",
    "root3 = rooot('C')\n",
    "keys3 = keyboard(3*root3,nkeys,'maj')\n",
    "\n",
    "def chords(keys):\n",
    "    chord = [keys[0],keys[2],keys[4],keys[6]]\n",
    "    return chord\n",
    "\n",
    "chord = [chords(keys1)]\n",
    "chord.append(chords(keys2))\n",
    "chord.append(chords(keys3))\n",
    "\n",
    "print(chord)\n",
    "\n",
    "\n",
    "\n",
    "pl = Player()\n",
    "pl.open_stream()\n",
    "\n",
    "\n",
    "synth = Synthesizer(osc1_waveform = Waveform.sine, osc1_volume = 0.1, use_osc2 = False)\n",
    "for i in range(3):\n",
    "    pl.play_wave(synth.generate_chord(chord[i][:],2))"
   ]
  },
  {
   "cell_type": "code",
   "execution_count": null,
   "metadata": {},
   "outputs": [],
   "source": []
  },
  {
   "cell_type": "code",
   "execution_count": null,
   "metadata": {},
   "outputs": [],
   "source": []
  }
 ],
 "metadata": {
  "kernelspec": {
   "display_name": "Python 3",
   "language": "python",
   "name": "python3"
  },
  "language_info": {
   "codemirror_mode": {
    "name": "ipython",
    "version": 3
   },
   "file_extension": ".py",
   "mimetype": "text/x-python",
   "name": "python",
   "nbconvert_exporter": "python",
   "pygments_lexer": "ipython3",
   "version": "3.7.2"
  }
 },
 "nbformat": 4,
 "nbformat_minor": 4
}
